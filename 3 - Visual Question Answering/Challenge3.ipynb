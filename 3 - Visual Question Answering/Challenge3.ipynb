{
 "cells": [
  {
   "cell_type": "code",
   "execution_count": 1,
   "metadata": {
    "id": "lXjLhipJtN0G"
   },
   "outputs": [],
   "source": [
    "import os\n",
    "import numpy as np \n",
    "import pandas as pd \n",
    "import time\n",
    "import matplotlib.pyplot as plt\n",
    "import tensorflow as tf\n",
    "from tensorflow import keras\n",
    "from tensorflow.keras import Sequential\n",
    "from tensorflow.keras.optimizers import Adam\n",
    "from tensorflow.keras import backend as K\n",
    "from tensorflow.keras.layers import Input, Dense, Dropout, BatchNormalization, GlobalAvgPool2D, ReLU, Flatten, Reshape, Lambda, Embedding, LSTM, GRU, Conv2D, MaxPool2D, TimeDistributed, RepeatVector, Concatenate, Bidirectional\n",
    "from tensorflow.keras.models import Model\n",
    "from tensorflow.keras.preprocessing.text import Tokenizer\n",
    "from tensorflow.keras.preprocessing import sequence\n",
    "from tensorflow.keras.callbacks import ModelCheckpoint, TensorBoard\n",
    "\n",
    "from scipy import ndimage, misc\n",
    "from PIL import Image\n",
    "import imageio\n",
    "import random\n",
    "from tensorflow.keras.preprocessing.image import ImageDataGenerator\n",
    "from datetime import datetime\n",
    "import json\n",
    "from sklearn.model_selection import train_test_split\n",
    "\n",
    "from IPython.display import clear_output \n",
    "from IPython.core.interactiveshell import InteractiveShell  # print all outputs\n",
    "InteractiveShell.ast_node_interactivity = \"all\"\n",
    "\n"
   ]
  },
  {
   "cell_type": "code",
   "execution_count": null,
   "metadata": {},
   "outputs": [],
   "source": [
    "SEED = 1234\n",
    "tf.random.set_seed(SEED)"
   ]
  },
  {
   "cell_type": "code",
   "execution_count": 2,
   "metadata": {
    "colab": {
     "base_uri": "https://localhost:8080/"
    },
    "id": "w9eAgKy3tY_A",
    "outputId": "98acb6bb-657a-4f20-92b0-2ecb13d04ae2"
   },
   "outputs": [
    {
     "name": "stdout",
     "output_type": "stream",
     "text": [
      "Mounted at /content/gdrive\n"
     ]
    }
   ],
   "source": [
    "from google.colab import drive\n",
    "drive.mount('/content/gdrive')\n"
   ]
  },
  {
   "cell_type": "code",
   "execution_count": 3,
   "metadata": {
    "colab": {
     "base_uri": "https://localhost:8080/",
     "height": 35
    },
    "id": "sR4neLBStN0X",
    "outputId": "1243a331-ac63-4548-dfbd-7c9bc990743a"
   },
   "outputs": [
    {
     "data": {
      "application/vnd.google.colaboratory.intrinsic+json": {
       "type": "string"
      },
      "text/plain": [
       "'/content'"
      ]
     },
     "execution_count": 3,
     "metadata": {
      "tags": []
     },
     "output_type": "execute_result"
    },
    {
     "data": {
      "application/vnd.google.colaboratory.intrinsic+json": {
       "type": "string"
      },
      "text/plain": [
       "'/content/Images/'"
      ]
     },
     "execution_count": 3,
     "metadata": {
      "tags": []
     },
     "output_type": "execute_result"
    }
   ],
   "source": [
    "curr_dir = os.getcwd()\n",
    "dataset_dir = curr_dir\n",
    "dataset_dir \n",
    "images_dir = dataset_dir + '/Images/'\n",
    "images_dir"
   ]
  },
  {
   "cell_type": "code",
   "execution_count": null,
   "metadata": {
    "colab": {
     "base_uri": "https://localhost:8080/"
    },
    "id": "X7CVqM2HtdUo",
    "outputId": "fe7a98d1-dd5b-4e41-cfb7-f66a1b92e6a9"
   },
   "outputs": [],
   "source": [
    "!unzip '/content/gdrive/My Drive/Colab Notebooks/VQA_Dataset.zip'"
   ]
  },
  {
   "cell_type": "code",
   "execution_count": null,
   "metadata": {
    "id": "_2pJ2x7BtN0Z"
   },
   "outputs": [],
   "source": [
    "# Image preprocessing (not applied)\n",
    "def process_image(x):\n",
    "    target_height, target_width = 256, 256\n",
    "    rotation_range = .05 # In radians\n",
    "    degs = random.uniform(-rotation_range, rotation_range)\n",
    "\n",
    "    x = tf.image.resize(x, (target_height, target_width), method=tf.image.ResizeMethod.AREA)\n",
    "    #x = tfa.image.rotate(x, degs)\n",
    "    return x"
   ]
  },
  {
   "cell_type": "code",
   "execution_count": 5,
   "metadata": {
    "id": "UInx07aEtN0a"
   },
   "outputs": [],
   "source": [
    "# used to randomly get the training and validation dictionary \n",
    "def train_valid_split_custom(df, train_size):\n",
    "    train_dic = {}\n",
    "    valid_dic = {}\n",
    "    count = 0\n",
    "    train_df, valid_df = train_test_split(df, shuffle = True, train_size = train_size)\n",
    "    train_dic = train_df.set_index('question_id').T.to_dict('dict')\n",
    "    valid_dic = valid_df.set_index('question_id').T.to_dict('dict') \n",
    "    return train_dic,valid_dic        "
   ]
  },
  {
   "cell_type": "code",
   "execution_count": 6,
   "metadata": {
    "id": "Dr3JZMiItN0a"
   },
   "outputs": [],
   "source": [
    "# Get the training data\n",
    "questions = []\n",
    "image_id = []\n",
    "answer = []\n",
    "\n",
    "training_dir = os.path.join(dataset_dir, 'training')\n",
    "\n",
    "with open(os.path.join(dataset_dir,\"train_questions_annotations.json\")) as f:\n",
    "    dic = json.load(f)\n",
    "df = pd.DataFrame(dic.items())\n",
    "df.rename(columns = {0:'question_id', 1:'question', 2:'image_id', 3:'answer'}, inplace = True)\n",
    "for img_id in df['question_id']:\n",
    "    questions.append(dic[img_id]['question'])\n",
    "    image_id.append(dic[img_id]['image_id'])\n",
    "    answer.append(dic[img_id]['answer'])\n",
    "df['question'] = questions\n",
    "df['image_id'] = image_id\n",
    "df['answer'] = answer\n",
    "\n",
    "train_data, valid_data= train_valid_split_custom(df, train_size = 0.95)\n",
    " "
   ]
  },
  {
   "cell_type": "code",
   "execution_count": null,
   "metadata": {
    "colab": {
     "base_uri": "https://localhost:8080/"
    },
    "id": "gRlaQtDOek9Q",
    "outputId": "2fbd747b-d05b-4dcb-e99f-86b377bce5d7"
   },
   "outputs": [
    {
     "data": {
      "text/plain": [
       "2942"
      ]
     },
     "execution_count": 10,
     "metadata": {
      "tags": []
     },
     "output_type": "execute_result"
    }
   ],
   "source": [
    "len(valid_data)"
   ]
  },
  {
   "cell_type": "code",
   "execution_count": null,
   "metadata": {
    "id": "-7ww6dlrCw2m"
   },
   "outputs": [],
   "source": [
    "# Dataset analysis: \n",
    "# Helpful to tune the hyper-parameters for the Embedding and the LSTM\n",
    "# - check the number of different words that appear in the questions => 4965\n",
    "# - check the maximum number of characters for a question => 100\n",
    "\n",
    "\n",
    "varie = []\n",
    "for string in df.question:\n",
    "  list_str = string.split()\n",
    "  for i in list_str:\n",
    "    if(i not in varie):\n",
    "      i = i.strip('?')\n",
    "      varie.append(i)\n",
    "    "
   ]
  },
  {
   "cell_type": "code",
   "execution_count": null,
   "metadata": {
    "colab": {
     "base_uri": "https://localhost:8080/"
    },
    "id": "a_a2BhQ7Dglq",
    "outputId": "4214eb02-b218-4f57-e13f-67be92d1afea"
   },
   "outputs": [
    {
     "data": {
      "text/plain": [
       "4965"
      ]
     },
     "execution_count": 15,
     "metadata": {
      "tags": []
     },
     "output_type": "execute_result"
    }
   ],
   "source": [
    "set_ = set(varie)\n",
    "len(set_)"
   ]
  },
  {
   "cell_type": "code",
   "execution_count": null,
   "metadata": {
    "colab": {
     "base_uri": "https://localhost:8080/"
    },
    "id": "Kn1GC9x3gCGr",
    "outputId": "197bf969-4fe8-4537-e2e1-2ec1b1c245bb"
   },
   "outputs": [
    {
     "data": {
      "text/plain": [
       "100"
      ]
     },
     "execution_count": 9,
     "metadata": {
      "tags": []
     },
     "output_type": "execute_result"
    },
    {
     "name": "stdout",
     "output_type": "stream",
     "text": [
      "\n",
      "Are tall pointed ears traditional to another animal that lives outdoors and has a bushy orange tail?\n"
     ]
    }
   ],
   "source": [
    "lista = max(list(df.question), key=len)\n",
    "len(lista)\n",
    "print('\\n' + lista)\n"
   ]
  },
  {
   "cell_type": "code",
   "execution_count": 7,
   "metadata": {
    "id": "Ks54GXEWtN0b"
   },
   "outputs": [],
   "source": [
    "# Our dictionary\n",
    "\n",
    "labels_dict = {\n",
    "        '0': 0,\n",
    "        '1': 1,\n",
    "        '2': 2,\n",
    "        '3': 3,\n",
    "        '4': 4,\n",
    "        '5': 5,\n",
    "        'apple': 6,\n",
    "        'baseball': 7,\n",
    "        'bench': 8,\n",
    "        'bike': 9,\n",
    "        'bird': 10,\n",
    "        'black': 11,\n",
    "        'blanket': 12,\n",
    "        'blue': 13,\n",
    "        'bone': 14,\n",
    "        'book': 15,\n",
    "        'boy': 16,\n",
    "        'brown': 17,\n",
    "        'cat': 18,\n",
    "        'chair': 19,\n",
    "        'couch': 20,\n",
    "        'dog': 21,\n",
    "        'floor': 22,\n",
    "        'food': 23,\n",
    "        'football': 24,\n",
    "        'girl': 25,\n",
    "        'grass': 26,\n",
    "        'gray': 27,\n",
    "        'green': 28,\n",
    "        'left': 29,\n",
    "        'log': 30,\n",
    "        'man': 31,\n",
    "        'monkey bars': 32,\n",
    "        'no': 33,\n",
    "        'nothing': 34,\n",
    "        'orange': 35,\n",
    "        'pie': 36,\n",
    "        'plant': 37,\n",
    "        'playing': 38,\n",
    "        'red': 39,\n",
    "        'right': 40,\n",
    "        'rug': 41,\n",
    "        'sandbox': 42,\n",
    "        'sitting': 43,\n",
    "        'sleeping': 44,\n",
    "        'soccer': 45,\n",
    "        'squirrel': 46,\n",
    "        'standing': 47,\n",
    "        'stool': 48,\n",
    "        'sunny': 49,\n",
    "        'table': 50,\n",
    "        'tree': 51,\n",
    "        'watermelon': 52,\n",
    "        'white': 53,\n",
    "        'wine': 54,\n",
    "        'woman': 55,\n",
    "        'yellow': 56,\n",
    "        'yes': 57\n",
    "}"
   ]
  },
  {
   "cell_type": "code",
   "execution_count": 8,
   "metadata": {
    "id": "nRL7LVjDtN0b"
   },
   "outputs": [],
   "source": [
    "# Some hyper-parameters\n",
    "\n",
    "img_h, img_w = 400, 700\n",
    "batch_size = 16          # We also tried 32\n",
    "vocab_size = 4000        # Number of words in the question vocabulary \n",
    "sequence_length = 100    # Number of characters in the question (We also tried 64)\n",
    "test_samples = 6372\n",
    "n_classes = len(labels_dict)\n",
    "INPUT_SIZE_MERGE = 512   # Number of LSTM & neurons in Dense layers\n",
    "ensemble = True"
   ]
  },
  {
   "cell_type": "code",
   "execution_count": 9,
   "metadata": {
    "id": "5KvySEwwZGF3"
   },
   "outputs": [],
   "source": [
    "# Fit a tokenizer on the whole training questions \n",
    "\n",
    "TOKEN = Tokenizer(num_words=vocab_size)   # Tokens to the text\n",
    "TOKEN.fit_on_texts(df['question']) "
   ]
  },
  {
   "cell_type": "code",
   "execution_count": 10,
   "metadata": {
    "id": "ef7tjScXtN0c"
   },
   "outputs": [],
   "source": [
    "# Custom data train generator\n",
    "def custom_generator(data, tokenizer):\n",
    "    while True:\n",
    "        n = batch_size\n",
    "        batch_data = []\n",
    "        x_text = []             # List of questions\n",
    "        x_image = []            # List of images\n",
    "        y = []                  # List of answers\n",
    "        num_labels = n_classes  # Current number of labels, used to create index mapping\n",
    "        images = {}             # Dictionary of images, to minimize number of imread ops\n",
    "\n",
    "\n",
    "        batch_data.append(random.sample(list(data), n))   # create batch of size n\n",
    "\n",
    "        for q in batch_data[0][0:n]:                      # take the first batch\n",
    "            if not data[q]['image_id'] in images:         # some images are already loaded (there might be questions on the same image)               \n",
    "                images[data[q]['image_id']] = imageio.imread(images_dir + data[q]['image_id']+'.png', pilmode=\"RGB\")\n",
    "\n",
    "            x_text.append(data[q]['question'])\n",
    "            x_image.append(images[data[q]['image_id']])\n",
    "            y.append(labels_dict[data[q]['answer']])\n",
    "       \n",
    "        sequences = tokenizer.texts_to_sequences(x_text)\n",
    "        x_text = sequence.pad_sequences(sequences, maxlen=sequence_length)     # Have all words with same length\n",
    "\n",
    "        # Convert x_image to np array\n",
    "        x_image = np.array(x_image)\n",
    "        \n",
    "        # Convert labels to categorical labels\n",
    "        y = keras.utils.to_categorical(y, num_labels)\n",
    "        yield ([x_text, x_image], y)"
   ]
  },
  {
   "cell_type": "code",
   "execution_count": null,
   "metadata": {
    "id": "-3tdF6BRtN0c"
   },
   "outputs": [],
   "source": [
    "# Plot the images\n",
    "\n",
    "gen = custom_generator(train_data,TOKEN)\n",
    "dataset = iter(gen)\n"
   ]
  },
  {
   "cell_type": "code",
   "execution_count": null,
   "metadata": {
    "id": "b7xfWYz0tN0e"
   },
   "outputs": [],
   "source": [
    "[x_text, x_image], y = next(dataset)"
   ]
  },
  {
   "cell_type": "code",
   "execution_count": null,
   "metadata": {
    "colab": {
     "base_uri": "https://localhost:8080/",
     "height": 260
    },
    "id": "nBjhW1JqtN0f",
    "outputId": "2212e731-68b8-4702-98e5-0e2336330136"
   },
   "outputs": [
    {
     "data": {
      "text/plain": [
       "<matplotlib.image.AxesImage at 0x7fc40efd6d30>"
      ]
     },
     "execution_count": 23,
     "metadata": {
      "tags": []
     },
     "output_type": "execute_result"
    },
    {
     "data": {
      "text/plain": [
       "(32, 100)"
      ]
     },
     "execution_count": 23,
     "metadata": {
      "tags": []
     },
     "output_type": "execute_result"
    },
    {
     "data": {
      "text/plain": [
       "(32, 400, 700, 3)"
      ]
     },
     "execution_count": 23,
     "metadata": {
      "tags": []
     },
     "output_type": "execute_result"
    },
    {
     "data": {
      "image/png": "[encoded data removed]",
      "text/plain": [
       "<Figure size 432x288 with 1 Axes>"
      ]
     },
     "metadata": {
      "tags": []
     },
     "output_type": "display_data"
    }
   ],
   "source": [
    "fig, ax = plt.subplots(1, 1)\n",
    "ax.imshow(np.uint8(x_image[0]))\n",
    "x_text.shape \n",
    "x_image.shape"
   ]
  },
  {
   "cell_type": "markdown",
   "metadata": {
    "id": "smdnT-7jtN0g"
   },
   "source": [
    "## Build the Model"
   ]
  },
  {
   "cell_type": "code",
   "execution_count": 12,
   "metadata": {
    "colab": {
     "base_uri": "https://localhost:8080/"
    },
    "id": "kl5MNhIktN0g",
    "outputId": "6d0d7864-c700-4c04-dcee-bd665b6b3f8b"
   },
   "outputs": [
    {
     "name": "stdout",
     "output_type": "stream",
     "text": [
      "Downloading data from https://storage.googleapis.com/tensorflow/keras-applications/vgg16/vgg16_weights_tf_dim_ordering_tf_kernels_notop.h5\n",
      "58892288/58889256 [==============================] - 1s 0us/step\n"
     ]
    }
   ],
   "source": [
    "# Define CNN for Image Input => Transfer Learning with fine-tuning\n",
    "\n",
    "base_model = tf.keras.applications.VGG16(input_shape=(img_h, img_w, 3), include_top=False, weights='imagenet')\n",
    "for i in range(16):\n",
    "    base_model.layers[i].trainable = False\n",
    "    "
   ]
  },
  {
   "cell_type": "code",
   "execution_count": 13,
   "metadata": {
    "colab": {
     "base_uri": "https://localhost:8080/"
    },
    "id": "VtEk2IrxtN0h",
    "outputId": "e943da2f-6c2d-4347-d136-d5cd33492071"
   },
   "outputs": [
    {
     "name": "stdout",
     "output_type": "stream",
     "text": [
      "Model: \"model\"\n",
      "__________________________________________________________________________________________________\n",
      "Layer (type)                    Output Shape         Param #     Connected to                     \n",
      "==================================================================================================\n",
      "input_3 (InputLayer)            [(None, 100)]        0                                            \n",
      "__________________________________________________________________________________________________\n",
      "embedding (Embedding)           (None, 100, 128)     512000      input_3[0][0]                    \n",
      "__________________________________________________________________________________________________\n",
      "bidirectional (Bidirectional)   (None, 1024)         2625536     embedding[0][0]                  \n",
      "__________________________________________________________________________________________________\n",
      "dense_1 (Dense)                 (None, 512)          524800      bidirectional[0][0]              \n",
      "__________________________________________________________________________________________________\n",
      "dropout_6 (Dropout)             (None, 512)          0           dense_1[0][0]                    \n",
      "__________________________________________________________________________________________________\n",
      "input_2 (InputLayer)            [(None, 400, 700, 3) 0                                            \n",
      "__________________________________________________________________________________________________\n",
      "dense_2 (Dense)                 (None, 256)          131328      dropout_6[0][0]                  \n",
      "__________________________________________________________________________________________________\n",
      "sequential_1 (Sequential)       (None, 512)          14977344    input_2[0][0]                    \n",
      "__________________________________________________________________________________________________\n",
      "concatenate (Concatenate)       (None, 768)          0           dense_2[0][0]                    \n",
      "                                                                 sequential_1[0][0]               \n",
      "__________________________________________________________________________________________________\n",
      "dense_3 (Dense)                 (None, 256)          196864      concatenate[0][0]                \n",
      "__________________________________________________________________________________________________\n",
      "dropout_7 (Dropout)             (None, 256)          0           dense_3[0][0]                    \n",
      "__________________________________________________________________________________________________\n",
      "dense_4 (Dense)                 (None, 58)           14906       dropout_7[0][0]                  \n",
      "==================================================================================================\n",
      "Total params: 18,982,778\n",
      "Trainable params: 8,987,706\n",
      "Non-trainable params: 9,995,072\n",
      "__________________________________________________________________________________________________\n"
     ]
    }
   ],
   "source": [
    "vision_model = Sequential()\n",
    "vision_model.add(base_model)\n",
    "vision_model.add(GlobalAvgPool2D())\n",
    "vision_model.add(Dense(INPUT_SIZE_MERGE, activation='relu'))\n",
    "vision_model.add(Dropout(0.2))\n",
    "\n",
    "image_input = Input(shape=(img_h, img_w, 3))\n",
    "encoded_image = vision_model(image_input)\n",
    "\n",
    "# Define RNN for language input\n",
    "question_input = Input(shape=[sequence_length])\n",
    "embedded_question = Embedding(vocab_size, 128)(question_input)\n",
    "encoded_question = Bidirectional(LSTM(INPUT_SIZE_MERGE))(embedded_question)    #we also tried GRU\n",
    "encoded_question = Dense(INPUT_SIZE_MERGE, activation='tanh')(encoded_question)\n",
    "encoded_question = Dropout(0.2)(encoded_question)\n",
    "encoded_question = Dense(INPUT_SIZE_MERGE/2, activation='tanh')(encoded_question)\n",
    "\n",
    "# Combine CNN and RNN to create the final model\n",
    "merged = tf.keras.layers.concatenate([encoded_question, encoded_image])\n",
    "output = Dense(INPUT_SIZE_MERGE/2, activation='relu')(merged)\n",
    "output = Dropout(0.2)(output)\n",
    "#output = Dense(INPUT_SIZE_MERGE/4, activation='relu')(output)\n",
    "output = Dense(n_classes, activation='softmax')(output)\n",
    "vqa_model = Model(inputs=[question_input, image_input], outputs=output)\n",
    "\n",
    "vqa_model.summary()"
   ]
  },
  {
   "cell_type": "code",
   "execution_count": null,
   "metadata": {
    "colab": {
     "base_uri": "https://localhost:8080/",
     "height": 952
    },
    "id": "TeiiTTRTtN0i",
    "outputId": "96792904-ecb8-462b-e812-cf6ce076f5e1"
   },
   "outputs": [
    {
     "data": {
      "image/png": "[encoded data removed]",
      "text/plain": [
       "<IPython.core.display.Image object>"
      ]
     },
     "execution_count": 18,
     "metadata": {
      "tags": []
     },
     "output_type": "execute_result"
    }
   ],
   "source": [
    "tf.keras.utils.plot_model(vqa_model)"
   ]
  },
  {
   "cell_type": "markdown",
   "metadata": {
    "id": "NGzh16WTnFJW"
   },
   "source": [
    "## Prepare the model for training"
   ]
  },
  {
   "cell_type": "code",
   "execution_count": 14,
   "metadata": {
    "id": "9MlmYGVMnFJW"
   },
   "outputs": [],
   "source": [
    "# Optimization params\n",
    "# -------------------\n",
    "\n",
    "# Loss\n",
    "loss = tf.keras.losses.CategoricalCrossentropy() \n",
    "\n",
    "# learning rate\n",
    "lr = 1e-3\n",
    "\n",
    "optimizer = tf.keras.optimizers.Adam(learning_rate=lr)\n",
    "\n",
    "# Validation metrics\n",
    "metrics = ['accuracy']\n",
    "# ------------------\n",
    "\n",
    "# Compile Model\n",
    "vqa_model.compile(optimizer=optimizer, loss=loss, metrics=metrics)"
   ]
  },
  {
   "cell_type": "markdown",
   "metadata": {
    "id": "PA6D_TBknFJZ"
   },
   "source": [
    "## Training with callbacks"
   ]
  },
  {
   "cell_type": "code",
   "execution_count": 15,
   "metadata": {
    "id": "3XiwaKZhnFJa",
    "scrolled": true
   },
   "outputs": [],
   "source": [
    "# Early Stopping\n",
    "# --------------\n",
    "callbacks = []\n",
    "early_stop = True\n",
    "if early_stop:\n",
    "    es_callback = tf.keras.callbacks.EarlyStopping(monitor='val_loss', patience=3, restore_best_weights=True)\n",
    "    callbacks.append(es_callback)\n"
   ]
  },
  {
   "cell_type": "code",
   "execution_count": 16,
   "metadata": {
    "colab": {
     "base_uri": "https://localhost:8080/"
    },
    "id": "iUv3JFAhxanx",
    "outputId": "21170c67-909a-42f4-c182-2186edd24b9e"
   },
   "outputs": [
    {
     "name": "stdout",
     "output_type": "stream",
     "text": [
      "Num GPUs Available:  1\n"
     ]
    }
   ],
   "source": [
    "import tensorflow as tf\n",
    "print(\"Num GPUs Available: \", len(tf.config.experimental.list_physical_devices('GPU')))"
   ]
  },
  {
   "cell_type": "code",
   "execution_count": 17,
   "metadata": {
    "id": "nJ5hcUaTZQi3"
   },
   "outputs": [],
   "source": [
    "# Setting up the Ensemble:\n",
    "# 1) For every model build a different dataset\n",
    "\n",
    "def generate_random_dataset(dataset):\n",
    "    rand_data= {}\n",
    "    copy = 1\n",
    "    for i in range(len(dataset)):\n",
    "      key = random.choice(list(dataset.keys()))\n",
    "      if(key in rand_data.keys()):\n",
    "        rand_data[key + '_' + str(copy)] = dataset[key]\n",
    "        copy += 1\n",
    "      else:\n",
    "        rand_data[key] = dataset[key]\n",
    "    return rand_data"
   ]
  },
  {
   "cell_type": "code",
   "execution_count": 18,
   "metadata": {
    "id": "ufX4ZfXeV-GB"
   },
   "outputs": [],
   "source": [
    "# 2) Build a single VQA model\n",
    "\n",
    "def build_vqa():\n",
    "  base_model = tf.keras.applications.VGG16(input_shape=(img_h, img_w, 3), include_top=False, weights='imagenet')\n",
    "  for i in range(16):\n",
    "    base_model.layers[i].trainable = False\n",
    "\n",
    "  vision_model = Sequential()\n",
    "  vision_model.add(base_model)\n",
    "  vision_model.add(GlobalAvgPool2D())\n",
    "  vision_model.add(Dense(1024, activation='relu'))\n",
    "  vision_model.add(Dropout(0.2))\n",
    "\n",
    "  image_input = Input(shape=(img_h, img_w, 3))\n",
    "  encoded_image = vision_model(image_input)\n",
    "\n",
    "  # Define RNN for language input\n",
    "  question_input = Input(shape=[sequence_length])\n",
    "  embedded_question = Embedding(vocab_size, 128)(question_input)\n",
    "  encoded_question = Bidirectional(LSTM(1024))(embedded_question)  #try GRU instead LSTM\n",
    "  encoded_question = Dense(1024/2, activation='tanh')(encoded_question)\n",
    "  encoded_question = Dropout(0.2)(encoded_question)\n",
    "\n",
    "  # Combine CNN and RNN to create the final model   \n",
    "  merged = tf.keras.layers.concatenate([encoded_question, encoded_image])\n",
    "  output = Dense(1024/2, activation='relu')(merged)\n",
    "  output = Dropout(0.3)(output)\n",
    "  output = Dense(n_classes, activation='softmax')(output)\n",
    "  vqa_model = Model(inputs=[question_input, image_input], outputs=output)\n",
    "  return vqa_model "
   ]
  },
  {
   "cell_type": "code",
   "execution_count": 19,
   "metadata": {
    "id": "ZiD4b3uGVnhf"
   },
   "outputs": [],
   "source": [
    "# 3) Create and fit 3 models and return them\n",
    "\n",
    "def ensemble_NN(n_networks = 3, tokenizer = None):\n",
    "  # Loss\n",
    "  loss = tf.keras.losses.CategoricalCrossentropy() \n",
    "\n",
    "  # learning rate\n",
    "  lr = 1e-4\n",
    "\n",
    "  optimizer = tf.keras.optimizers.Adam(learning_rate=lr)\n",
    "\n",
    "  # Validation metrics\n",
    "  metrics = ['accuracy']\n",
    "\n",
    "  models = [None]*n_networks\n",
    "  for i in range(n_networks):\n",
    "    models[i] = build_vqa()\n",
    "    print(\"Model  \"+ str(i+1) + \" out of \"+str(n_networks)+\"  has been built\")\n",
    "    \n",
    "    models[i].compile(optimizer=optimizer, loss=loss, metrics=metrics)\n",
    "    print(\"Model  \"+ str(i+1) + \" out of \"+str(n_networks)+\"  has been compiled\" '\\n')\n",
    "    \n",
    "    data_train = generate_random_dataset(train_data)\n",
    "    data_valid = generate_random_dataset(valid_data)\n",
    "    \n",
    "    models[i].fit(x=custom_generator(data_train, tokenizer),\n",
    "          epochs = 7, \n",
    "          steps_per_epoch = len(data_train)//batch_size,\n",
    "          validation_data = custom_generator(data_valid, tokenizer),\n",
    "          validation_steps = len(data_valid)//batch_size)\n",
    "    \n",
    "    print('\\n' \"Model  \"+ str(i+1) + \" out of \"+str(n_networks)+\"  has been fit\" '\\n')\n",
    "    \n",
    "  return models\n",
    "    "
   ]
  },
  {
   "cell_type": "code",
   "execution_count": 20,
   "metadata": {
    "id": "q9G_VWdFZbMU"
   },
   "outputs": [],
   "source": [
    "# 4) Computes the mean of the 3 ensemble for each data point\n",
    "\n",
    "def predict_ensembleNN(models, test):\n",
    "  out_softmax = [[None]*58]*(len(models))\n",
    "  out_softmax = np.array(out_softmax)\n",
    "  final_softmax = np.array([None]*58)\n",
    "\n",
    "  for i in range(len(models)):\n",
    "    out_softmax[i] = models[i].predict(test)\n",
    "\n",
    "  out_softmax = np.array(out_softmax)\n",
    "\n",
    "  for i in range(58):\n",
    "   final_softmax[i] = np.mean(out_softmax[:,i])\n",
    "\n",
    "  return final_softmax.argmax(axis=-1)\n"
   ]
  },
  {
   "cell_type": "code",
   "execution_count": 21,
   "metadata": {
    "colab": {
     "base_uri": "https://localhost:8080/"
    },
    "id": "kuJGBAoNCKgI",
    "outputId": "e52eb118-ed81-4d4f-de43-ecc570c6b2de",
    "scrolled": true
   },
   "outputs": [
    {
     "name": "stdout",
     "output_type": "stream",
     "text": [
      "Model  1 out of 3  has been built\n",
      "Model  1 out of 3  has been compiled\n",
      "\n",
      "Epoch 1/7\n",
      "3493/3493 [==============================] - 1497s 425ms/step - loss: 2.1230 - accuracy: 0.3648 - val_loss: 1.3398 - val_accuracy: 0.4795\n",
      "Epoch 2/7\n",
      "3493/3493 [==============================] - 1484s 425ms/step - loss: 1.2922 - accuracy: 0.5117 - val_loss: 1.1074 - val_accuracy: 0.5574\n",
      "Epoch 3/7\n",
      "3493/3493 [==============================] - 1485s 425ms/step - loss: 1.0677 - accuracy: 0.5874 - val_loss: 1.0874 - val_accuracy: 0.5478\n",
      "Epoch 4/7\n",
      "3493/3493 [==============================] - 1483s 425ms/step - loss: 0.9308 - accuracy: 0.6409 - val_loss: 1.0249 - val_accuracy: 0.5748\n",
      "Epoch 5/7\n",
      "3493/3493 [==============================] - 1484s 425ms/step - loss: 0.7944 - accuracy: 0.6843 - val_loss: 1.1055 - val_accuracy: 0.5666\n",
      "Epoch 6/7\n",
      "3493/3493 [==============================] - 1483s 425ms/step - loss: 0.6734 - accuracy: 0.7400 - val_loss: 1.0574 - val_accuracy: 0.5936\n",
      "Epoch 7/7\n",
      "3493/3493 [==============================] - 1482s 424ms/step - loss: 0.5479 - accuracy: 0.7961 - val_loss: 1.1829 - val_accuracy: 0.5980\n",
      "\n",
      "Model  1 out of 3  has been fit\n",
      "\n",
      "Model  2 out of 3  has been built\n",
      "Model  2 out of 3  has been compiled\n",
      "\n",
      "Epoch 1/7\n",
      "3493/3493 [==============================] - 1486s 425ms/step - loss: 1.9659 - accuracy: 0.3697 - val_loss: 1.3280 - val_accuracy: 0.4737\n",
      "Epoch 2/7\n",
      "3493/3493 [==============================] - 1465s 419ms/step - loss: 1.3469 - accuracy: 0.5052 - val_loss: 1.1903 - val_accuracy: 0.5256\n",
      "Epoch 3/7\n",
      "3493/3493 [==============================] - 1471s 421ms/step - loss: 1.2108 - accuracy: 0.5474 - val_loss: 1.1368 - val_accuracy: 0.5365\n",
      "Epoch 4/7\n",
      "3493/3493 [==============================] - 1484s 425ms/step - loss: 1.1021 - accuracy: 0.5753 - val_loss: 1.0874 - val_accuracy: 0.5628\n",
      "Epoch 5/7\n",
      "3493/3493 [==============================] - 1483s 425ms/step - loss: 1.0273 - accuracy: 0.6039 - val_loss: 1.0741 - val_accuracy: 0.5765\n",
      "Epoch 6/7\n",
      "3493/3493 [==============================] - 1480s 424ms/step - loss: 0.9796 - accuracy: 0.6176 - val_loss: 1.0700 - val_accuracy: 0.5731\n",
      "Epoch 7/7\n",
      "3493/3493 [==============================] - 1481s 424ms/step - loss: 0.9442 - accuracy: 0.6302 - val_loss: 1.0139 - val_accuracy: 0.6072\n",
      "\n",
      "Model  2 out of 3  has been fit\n",
      "\n",
      "Model  3 out of 3  has been built\n",
      "Model  3 out of 3  has been compiled\n",
      "\n",
      "Epoch 1/7\n",
      "3493/3493 [==============================] - 1486s 425ms/step - loss: 1.8109 - accuracy: 0.4095 - val_loss: 1.2825 - val_accuracy: 0.5184\n",
      "Epoch 2/7\n",
      "3493/3493 [==============================] - 1482s 424ms/step - loss: 1.2911 - accuracy: 0.5212 - val_loss: 1.1396 - val_accuracy: 0.5133\n",
      "Epoch 3/7\n",
      "3493/3493 [==============================] - 1483s 425ms/step - loss: 1.1216 - accuracy: 0.5700 - val_loss: 1.1044 - val_accuracy: 0.5297\n",
      "Epoch 4/7\n",
      "3493/3493 [==============================] - 1482s 424ms/step - loss: 1.0301 - accuracy: 0.5957 - val_loss: 1.0366 - val_accuracy: 0.5680\n",
      "Epoch 5/7\n",
      "3493/3493 [==============================] - 1483s 425ms/step - loss: 0.9635 - accuracy: 0.6213 - val_loss: 1.0861 - val_accuracy: 0.5434\n",
      "Epoch 6/7\n",
      "3493/3493 [==============================] - 1484s 425ms/step - loss: 0.9220 - accuracy: 0.6332 - val_loss: 1.0235 - val_accuracy: 0.5591\n",
      "Epoch 7/7\n",
      "3493/3493 [==============================] - 1479s 423ms/step - loss: 0.8694 - accuracy: 0.6559 - val_loss: 1.0658 - val_accuracy: 0.5669\n",
      "\n",
      "Model  3 out of 3  has been fit\n",
      "\n"
     ]
    }
   ],
   "source": [
    "# Train the model/models\n",
    "\n",
    "if(ensemble == False):\n",
    "  vqa_model.fit(x=custom_generator(train_data, TOKEN),\n",
    "  epochs = 20,\n",
    "  steps_per_epoch = len(train_data)//batch_size,\n",
    "  validation_data = custom_generator(valid_data, TOKEN),\n",
    "  validation_steps = len(valid_data)//batch_size,\n",
    "  callbacks = callbacks)\n",
    "else:  \n",
    "  models = ensemble_NN(n_networks = 3,tokenizer = TOKEN)"
   ]
  },
  {
   "cell_type": "markdown",
   "metadata": {},
   "source": [
    "## Compute Predictions"
   ]
  },
  {
   "cell_type": "code",
   "execution_count": 22,
   "metadata": {
    "id": "GUXyHpsmtN0m"
   },
   "outputs": [],
   "source": [
    "def create_csv(results, results_dir='/.'):\n",
    "\n",
    "    csv_fname = 'results_'\n",
    "    csv_fname += datetime.now().strftime('%b%d_%H-%M-%S') + '.csv'\n",
    "\n",
    "    with open(os.path.join(results_dir, csv_fname), 'w') as f:\n",
    "\n",
    "        f.write('Id,Category\\n')\n",
    "\n",
    "        for key, value in results.items():\n",
    "            f.write(str(key) + ',' + str(value) + '\\n')"
   ]
  },
  {
   "cell_type": "code",
   "execution_count": 23,
   "metadata": {
    "id": "aiS45ql9tN0m"
   },
   "outputs": [],
   "source": [
    "# Get the test dataset\n",
    "\n",
    "questions = []\n",
    "image_id = []\n",
    "with open(os.path.join(dataset_dir, \"test_questions.json\")) as f:\n",
    "    dic = json.load(f)\n",
    "df_test = pd.DataFrame(dic.items())\n",
    "df_test.rename(columns = {0:'question_id', 1:'question', 2:'image_id'}, inplace = True)\n",
    "for img_id in df_test['question_id']:\n",
    "    questions.append(dic[img_id]['question'])\n",
    "    image_id.append(dic[img_id]['image_id'])\n",
    "df_test['question'] = questions\n",
    "df_test['image_id'] = image_id\n"
   ]
  },
  {
   "cell_type": "code",
   "execution_count": 24,
   "metadata": {
    "id": "nzf_o6E9tN0m"
   },
   "outputs": [],
   "source": [
    "# Custom data test generator\n",
    "\n",
    "def load_image_to_predict(df, n_th_sample,vocab_size, sequence_length, tokenizer=None):\n",
    "    x_text = []\n",
    "    x_image = []\n",
    "    x_image.append(imageio.imread(images_dir + df.iloc[n_th_sample]['image_id'] +'.png', pilmode=\"RGB\"))\n",
    "    x_text.append(df.iloc[n_th_sample]['question'])\n",
    "    \n",
    "    \n",
    "    sequences = tokenizer.texts_to_sequences(x_text)\n",
    "    x_text = sequence.pad_sequences(sequences, maxlen=sequence_length)   # Have all words with same length\n",
    "    # Convert x_image to np array\n",
    "    x_image = np.array(x_image)\n",
    "  \n",
    "    print('Sample: ', str(n_th_sample))\n",
    "    if(n_th_sample==0):\n",
    "     print('Text: ', x_text.shape)\n",
    "     print('Image: ', x_image.shape)\n",
    "     print(x_text)\n",
    "    \n",
    "    \n",
    "    return [x_text, x_image]"
   ]
  },
  {
   "cell_type": "code",
   "execution_count": 25,
   "metadata": {
    "colab": {
     "base_uri": "https://localhost:8080/"
    },
    "id": "r6x8qvvX9QmR",
    "outputId": "e8f09adb-6a06-4a64-96a7-b1149e167201"
   },
   "outputs": [
    {
     "name": "stdout",
     "output_type": "stream",
     "text": [
      "Sample:  0\n",
      "Text:  (1, 100)\n",
      "Image:  (1, 400, 700, 3)\n",
      "[[  0   0   0   0   0   0   0   0   0   0   0   0   0   0   0   0   0   0\n",
      "    0   0   0   0   0   0   0   0   0   0   0   0   0   0   0   0   0   0\n",
      "    0   0   0   0   0   0   0   0   0   0   0   0   0   0   0   0   0   0\n",
      "    0   0   0   0   0   0   0   0   0   0   0   0   0   0   0   0   0   0\n",
      "    0   0   0   0   0   0   0   0   0   0   0   0   0   0   0   0   0   0\n",
      "    0   0   0   0   0   0   5   2   1 213]]\n"
     ]
    }
   ],
   "source": [
    "# Test the previous method\n",
    "\n",
    "[x_text, x_image] = load_image_to_predict(df_test, 0, vocab_size, sequence_length,TOKEN)"
   ]
  },
  {
   "cell_type": "code",
   "execution_count": null,
   "metadata": {
    "colab": {
     "base_uri": "https://localhost:8080/",
     "height": 164
    },
    "id": "ohkuEb8ZqRGh",
    "outputId": "1308a556-704a-4f93-9b6c-0460226cb374"
   },
   "outputs": [
    {
     "data": {
      "text/html": [
       "<div>\n",
       "<style scoped>\n",
       "    .dataframe tbody tr th:only-of-type {\n",
       "        vertical-align: middle;\n",
       "    }\n",
       "\n",
       "    .dataframe tbody tr th {\n",
       "        vertical-align: top;\n",
       "    }\n",
       "\n",
       "    .dataframe thead th {\n",
       "        text-align: right;\n",
       "    }\n",
       "</style>\n",
       "<table border=\"1\" class=\"dataframe\">\n",
       "  <thead>\n",
       "    <tr style=\"text-align: right;\">\n",
       "      <th></th>\n",
       "      <th>question_id</th>\n",
       "      <th>question</th>\n",
       "      <th>image_id</th>\n",
       "    </tr>\n",
       "  </thead>\n",
       "  <tbody>\n",
       "    <tr>\n",
       "      <th>count</th>\n",
       "      <td>6372</td>\n",
       "      <td>6372</td>\n",
       "      <td>6372</td>\n",
       "    </tr>\n",
       "    <tr>\n",
       "      <th>unique</th>\n",
       "      <td>6372</td>\n",
       "      <td>4133</td>\n",
       "      <td>5903</td>\n",
       "    </tr>\n",
       "    <tr>\n",
       "      <th>top</th>\n",
       "      <td>228191</td>\n",
       "      <td>What color is the rug?</td>\n",
       "      <td>11400</td>\n",
       "    </tr>\n",
       "    <tr>\n",
       "      <th>freq</th>\n",
       "      <td>1</td>\n",
       "      <td>64</td>\n",
       "      <td>3</td>\n",
       "    </tr>\n",
       "  </tbody>\n",
       "</table>\n",
       "</div>"
      ],
      "text/plain": [
       "       question_id                question image_id\n",
       "count         6372                    6372     6372\n",
       "unique        6372                    4133     5903\n",
       "top         228191  What color is the rug?    11400\n",
       "freq             1                      64        3"
      ]
     },
     "execution_count": 35,
     "metadata": {
      "tags": []
     },
     "output_type": "execute_result"
    }
   ],
   "source": [
    "df_test.describe()"
   ]
  },
  {
   "cell_type": "code",
   "execution_count": null,
   "metadata": {
    "colab": {
     "base_uri": "https://localhost:8080/"
    },
    "id": "Kv5vpXL3tN0m",
    "outputId": "47bd18ac-0d6a-48d1-9407-4019c26f0849"
   },
   "outputs": [],
   "source": [
    "# Test data loading \n",
    "\n",
    "predicted_class = [None]*len(df_test)\n",
    "for i in range(len(df_test)):  \n",
    " test = load_image_to_predict(df_test, i, vocab_size, sequence_length,tokenizer = TOKEN)\n",
    " \n",
    " if(ensemble == False):\n",
    "   out_softmax = vqa_model.predict(test)\n",
    "   predicted_class[i] = out_softmax.argmax(axis=-1)\n",
    "\n",
    " else:\n",
    "   predicted_class[i] = predict_ensembleNN(models, test)"
   ]
  },
  {
   "cell_type": "code",
   "execution_count": 28,
   "metadata": {
    "id": "o4SqIJBptN0n"
   },
   "outputs": [],
   "source": [
    "predicted_class = np.array(predicted_class)\n",
    "if(ensemble == False):\n",
    "  predicted_class = predicted_class[:,0]\n",
    "d = {}\n",
    "count = 0\n",
    "\n",
    "for i in df_test[\"question_id\"]:\n",
    "    d[i] = predicted_class[count]\n",
    "    count = count + 1\n",
    "\n",
    "create_csv(d)"
   ]
  },
  {
   "cell_type": "code",
   "execution_count": 35,
   "metadata": {
    "colab": {
     "base_uri": "https://localhost:8080/",
     "height": 343
    },
    "id": "GhSyBlpas-Jf",
    "outputId": "7e204eb2-d5eb-4d02-a6da-edf1c76642ed"
   },
   "outputs": [
    {
     "name": "stdout",
     "output_type": "stream",
     "text": [
      "Sample:  3672\n"
     ]
    },
    {
     "data": {
      "text/plain": [
       "<matplotlib.image.AxesImage at 0x7f8280749748>"
      ]
     },
     "execution_count": 35,
     "metadata": {
      "tags": []
     },
     "output_type": "execute_result"
    },
    {
     "name": "stdout",
     "output_type": "stream",
     "text": [
      "\n",
      "\n",
      " Question: How many different animals can you see?\n",
      "\n",
      " Answer: 2\n"
     ]
    },
    {
     "data": {
      "image/png": "[encoded data removed]",
      "text/plain": [
       "<Figure size 432x288 with 1 Axes>"
      ]
     },
     "metadata": {
      "needs_background": "light",
      "tags": []
     },
     "output_type": "display_data"
    }
   ],
   "source": [
    "# Check a prediction\n",
    "i = random.choice([x for x in range(len(df_test))])\n",
    "[x_text,x_image] = load_image_to_predict(df_test, i, vocab_size, sequence_length, tokenizer = TOKEN)\n",
    "\n",
    "# Show the correspondent image\n",
    "fig, ax = plt.subplots(1, 1)\n",
    "ax.imshow(np.uint8(x_image[0]))\n",
    "\n",
    "# Show the predicted answer\n",
    "print('\\n\\n','Question: ' + df_test.question[i])\n",
    "for key in labels_dict: \n",
    "    if labels_dict[key] == d[df_test.question_id[i]]: \n",
    "        res = key \n",
    "print('\\n','Answer: ' + res)"
   ]
  }
 ],
 "metadata": {
  "accelerator": "GPU",
  "colab": {
   "collapsed_sections": [],
   "name": "ThirdLore.ipynb",
   "provenance": [],
   "toc_visible": true
  },
  "kernelspec": {
   "display_name": "Python 3",
   "language": "python",
   "name": "python3"
  },
  "language_info": {
   "codemirror_mode": {
    "name": "ipython",
    "version": 3
   },
   "file_extension": ".py",
   "mimetype": "text/x-python",
   "name": "python",
   "nbconvert_exporter": "python",
   "pygments_lexer": "ipython3",
   "version": "3.7.9"
  }
 },
 "nbformat": 4,
 "nbformat_minor": 1
}
